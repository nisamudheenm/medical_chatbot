{
 "cells": [
  {
   "cell_type": "code",
   "execution_count": 1,
   "metadata": {},
   "outputs": [
    {
     "name": "stdout",
     "output_type": "stream",
     "text": [
      "ok\n"
     ]
    }
   ],
   "source": [
    "print(\"ok\")"
   ]
  },
  {
   "cell_type": "code",
   "execution_count": 10,
   "metadata": {},
   "outputs": [
    {
     "name": "stdout",
     "output_type": "stream",
     "text": [
      "Looking in indexes: https://pypi.org/simple, https://pypi.ngc.nvidia.com\n",
      "Collecting python-dotenv\n",
      "  Downloading python_dotenv-1.0.1-py3-none-any.whl.metadata (23 kB)\n",
      "Downloading python_dotenv-1.0.1-py3-none-any.whl (19 kB)\n",
      "Installing collected packages: python-dotenv\n",
      "Successfully installed python-dotenv-1.0.1\n",
      "Note: you may need to restart the kernel to use updated packages.\n"
     ]
    },
    {
     "name": "stderr",
     "output_type": "stream",
     "text": [
      "\n",
      "[notice] A new release of pip is available: 24.0 -> 24.3.1\n",
      "[notice] To update, run: python.exe -m pip install --upgrade pip\n"
     ]
    }
   ],
   "source": [
    "pip install python-dotenv"
   ]
  },
  {
   "cell_type": "code",
   "execution_count": 11,
   "metadata": {},
   "outputs": [
    {
     "name": "stdout",
     "output_type": "stream",
     "text": [
      "Package                 VersionNote: you may need to restart the kernel to use updated packages.\n",
      "\n",
      "----------------------- -----------\n",
      "aiohappyeyeballs        2.4.4\n",
      "aiohttp                 3.11.11\n",
      "aiosignal               1.3.2\n",
      "asttokens               3.0.0\n",
      "attrs                   24.3.0\n",
      "blinker                 1.9.0\n",
      "certifi                 2024.12.14\n",
      "charset-normalizer      3.4.1\n",
      "click                   8.1.8\n",
      "colorama                0.4.6\n",
      "comm                    0.2.2\n",
      "ctransformers           0.2.5\n",
      "dataclasses-json        0.5.14\n",
      "debugpy                 1.8.11\n",
      "decorator               5.1.1\n",
      "dnspython               2.7.0\n",
      "executing               2.1.0\n",
      "filelock                3.16.1\n",
      "Flask                   3.1.0\n",
      "frozenlist              1.5.0\n",
      "fsspec                  2024.12.0\n",
      "greenlet                3.1.1\n",
      "huggingface-hub         0.27.1\n",
      "idna                    3.10\n",
      "ipykernel               6.29.5\n",
      "ipython                 8.31.0\n",
      "itsdangerous            2.2.0\n",
      "jedi                    0.19.2\n",
      "Jinja2                  3.1.5\n",
      "jupyter_client          8.6.3\n",
      "jupyter_core            5.7.2\n",
      "langchain               0.0.225\n",
      "langchainplus-sdk       0.0.20\n",
      "loguru                  0.7.3\n",
      "MarkupSafe              3.0.2\n",
      "marshmallow             3.24.1\n",
      "matplotlib-inline       0.1.7\n",
      "multidict               6.1.0\n",
      "mypy-extensions         1.0.0\n",
      "nest-asyncio            1.6.0\n",
      "numexpr                 2.10.2\n",
      "numpy                   1.26.4\n",
      "openapi-schema-pydantic 1.2.4\n",
      "packaging               24.2\n",
      "parso                   0.8.4\n",
      "pinecone-client         2.2.4\n",
      "pip                     24.0\n",
      "platformdirs            4.3.6\n",
      "prompt_toolkit          3.0.48\n",
      "propcache               0.2.1\n",
      "psutil                  6.1.1\n",
      "pure_eval               0.2.3\n",
      "pydantic                1.10.20\n",
      "Pygments                2.19.1\n",
      "pypdf                   5.1.0\n",
      "python-dateutil         2.9.0.post0\n",
      "python-dotenv           1.0.1\n",
      "pywin32                 308\n",
      "PyYAML                  6.0.2\n",
      "pyzmq                   26.2.0\n",
      "requests                2.32.3\n",
      "setuptools              65.5.0\n",
      "six                     1.17.0\n",
      "SQLAlchemy              2.0.36\n",
      "stack-data              0.6.3\n",
      "tenacity                8.5.0\n",
      "tornado                 6.4.2\n",
      "tqdm                    4.67.1\n",
      "traitlets               5.14.3\n",
      "typing_extensions       4.12.2\n",
      "typing-inspect          0.9.0\n",
      "urllib3                 2.3.0\n",
      "wcwidth                 0.2.13\n",
      "Werkzeug                3.1.3\n",
      "win32_setctime          1.2.0\n",
      "yarl                    1.18.3\n"
     ]
    },
    {
     "name": "stderr",
     "output_type": "stream",
     "text": [
      "\n",
      "[notice] A new release of pip is available: 24.0 -> 24.3.1\n",
      "[notice] To update, run: python.exe -m pip install --upgrade pip\n"
     ]
    }
   ],
   "source": [
    "pip list"
   ]
  },
  {
   "cell_type": "code",
   "execution_count": 3,
   "metadata": {},
   "outputs": [
    {
     "name": "stderr",
     "output_type": "stream",
     "text": [
      "h:\\Ineuron\\medical_chatgpt\\medical_chatbot\\.env\\Lib\\site-packages\\pinecone\\index.py:4: TqdmWarning: IProgress not found. Please update jupyter and ipywidgets. See https://ipywidgets.readthedocs.io/en/stable/user_install.html\n",
      "  from tqdm.autonotebook import tqdm\n"
     ]
    }
   ],
   "source": [
    "from langchain import PromptTemplate\n",
    "from langchain.chains import RetrievalQA\n",
    "from langchain.embeddings import HuggingFaceEmbeddings\n",
    "from langchain.vectorstores import Pinecone\n",
    "import pinecone\n",
    "from langchain.document_loaders import PyMuPDFLoader, DirectoryLoader\n",
    "from langchain.text_splitter import RecursiveCharacterTextSplitter\n",
    "from langchain.prompts import PromptTemplate\n",
    "from langchain.llms import CTransformers"
   ]
  },
  {
   "cell_type": "code",
   "execution_count": null,
   "metadata": {},
   "outputs": [],
   "source": []
  }
 ],
 "metadata": {
  "kernelspec": {
   "display_name": ".env",
   "language": "python",
   "name": "python3"
  },
  "language_info": {
   "codemirror_mode": {
    "name": "ipython",
    "version": 3
   },
   "file_extension": ".py",
   "mimetype": "text/x-python",
   "name": "python",
   "nbconvert_exporter": "python",
   "pygments_lexer": "ipython3",
   "version": "3.11.9"
  }
 },
 "nbformat": 4,
 "nbformat_minor": 2
}
