{
 "cells": [
  {
   "cell_type": "code",
   "execution_count": 1,
   "metadata": {},
   "outputs": [
    {
     "name": "stdout",
     "output_type": "stream",
     "text": [
      "ok\n"
     ]
    }
   ],
   "source": [
    "print(\"ok\")"
   ]
  },
  {
   "cell_type": "code",
   "execution_count": 1,
   "metadata": {},
   "outputs": [
    {
     "name": "stdout",
     "output_type": "stream",
     "text": [
      "Package                 Version\n",
      "----------------------- -----------\n",
      "aiohappyeyeballs        2.4.4\n",
      "aiohttp                 3.11.11\n",
      "aiosignal               1.3.2\n",
      "asttokens               3.0.0\n",
      "attrs                   24.3.0\n",
      "blinker                 1.9.0\n",
      "certifi                 2024.12.14\n",
      "charset-normalizer      3.4.1\n",
      "click                   8.1.8\n",
      "colorama                0.4.6\n",
      "comm                    0.2.2\n",
      "ctransformers           0.2.5\n",
      "dataclasses-json        0.5.14\n",
      "debugpy                 1.8.11\n",
      "decorator               5.1.1\n",
      "dnspython               2.7.0\n",
      "executing               2.1.0\n",
      "filelock                3.16.1\n",
      "Flask                   3.1.0\n",
      "frozenlist              1.5.0\n",
      "fsspec                  2024.12.0\n",
      "greenlet                3.1.1\n",
      "huggingface-hub         0.27.1\n",
      "idna                    3.10\n",
      "ipykernel               6.29.5\n",
      "ipython                 8.31.0\n",
      "itsdangerous            2.2.0\n",
      "jedi                    0.19.2\n",
      "Jinja2                  3.1.5\n",
      "joblib                  1.4.2\n",
      "jupyter_client          8.6.3\n",
      "jupyter_core            5.7.2\n",
      "langchain               0.0.225\n",
      "langchainplus-sdk       0.0.20\n",
      "loguru                  0.7.3\n",
      "MarkupSafe              3.0.2\n",
      "marshmallow             3.24.1\n",
      "matplotlib-inline       0.1.7\n",
      "mpmath                  1.3.0\n",
      "multidict               6.1.0\n",
      "mypy-extensions         1.0.0\n",
      "nest-asyncio            1.6.0\n",
      "networkx                3.4.2\n",
      "numexpr                 2.10.2\n",
      "numpy                   1.26.4\n",
      "openapi-schema-pydantic 1.2.4\n",
      "packaging               24.2\n",
      "parso                   0.8.4\n",
      "pillow                  11.1.0\n",
      "pinecone-client         2.2.4\n",
      "pip                     24.0\n",
      "platformdirs            4.3.6\n",
      "prompt_toolkit          3.0.48\n",
      "propcache               0.2.1\n",
      "psutil                  6.1.1\n",
      "pure_eval               0.2.3\n",
      "pydantic                1.10.20\n",
      "Pygments                2.19.1\n",
      "pypdf                   5.1.0\n",
      "python-dateutil         2.9.0.post0\n",
      "python-dotenv           1.0.1\n",
      "pywin32                 308\n",
      "PyYAML                  6.0.2\n",
      "pyzmq                   26.2.0\n",
      "regex                   2024.11.6\n",
      "requests                2.32.3\n",
      "safetensors             0.5.2\n",
      "scikit-learn            1.6.0\n",
      "scipy                   1.15.0\n",
      "sentence-transformers   3.3.1\n",
      "setuptools              65.5.0\n",
      "six                     1.17.0\n",
      "SQLAlchemy              2.0.36\n",
      "stack-data              0.6.3\n",
      "sympy                   1.13.1\n",
      "tenacity                8.5.0\n",
      "threadpoolctl           3.5.0\n",
      "tokenizers              0.21.0\n",
      "torch                   2.5.1\n",
      "tornado                 6.4.2\n",
      "tqdm                    4.67.1\n",
      "traitlets               5.14.3\n",
      "transformers            4.47.1\n",
      "typing_extensions       4.12.2\n",
      "typing-inspect          0.9.0\n",
      "urllib3                 2.3.0\n",
      "wcwidth                 0.2.13\n",
      "Werkzeug                3.1.3\n",
      "win32_setctime          1.2.0\n",
      "yarl                    1.18.3\n",
      "Note: you may need to restart the kernel to use updated packages.\n"
     ]
    },
    {
     "name": "stderr",
     "output_type": "stream",
     "text": [
      "\n",
      "[notice] A new release of pip is available: 24.0 -> 24.3.1\n",
      "[notice] To update, run: python.exe -m pip install --upgrade pip\n"
     ]
    }
   ],
   "source": [
    "pip list"
   ]
  },
  {
   "cell_type": "code",
   "execution_count": 2,
   "metadata": {},
   "outputs": [
    {
     "name": "stderr",
     "output_type": "stream",
     "text": [
      "h:\\Ineuron\\medical_chatgpt\\medical_chatbot\\.env\\Lib\\site-packages\\pinecone\\index.py:4: TqdmWarning: IProgress not found. Please update jupyter and ipywidgets. See https://ipywidgets.readthedocs.io/en/stable/user_install.html\n",
      "  from tqdm.autonotebook import tqdm\n"
     ]
    }
   ],
   "source": [
    "from langchain import PromptTemplate\n",
    "from langchain.chains import RetrievalQA\n",
    "from langchain.embeddings import HuggingFaceEmbeddings\n",
    "from langchain.vectorstores import Pinecone\n",
    "import pinecone\n",
    "from langchain.document_loaders import PyPDFLoader, DirectoryLoader\n",
    "from langchain.text_splitter import RecursiveCharacterTextSplitter\n",
    "from langchain.prompts import PromptTemplate\n",
    "from langchain.llms import CTransformers"
   ]
  },
  {
   "cell_type": "code",
   "execution_count": 3,
   "metadata": {},
   "outputs": [
    {
     "data": {
      "text/plain": [
       "'2.2.4'"
      ]
     },
     "execution_count": 3,
     "metadata": {},
     "output_type": "execute_result"
    }
   ],
   "source": [
    "pinecone.__version__"
   ]
  },
  {
   "cell_type": "code",
   "execution_count": 4,
   "metadata": {},
   "outputs": [],
   "source": [
    "PINECONE_API_KEY = \"pcsk_34Xkxc_ap7EWJNWSBZRt9p1NqJKr14Bt47Fr2ya8iu3jpxDDoEiVJrDbp9AvC81TaVCPt\"\n",
    "PINECONE_API_KEY_ENV = \"gcp-starter\""
   ]
  },
  {
   "attachments": {
    "image.png": {
     "image/png": "[encoded data removed]"
    }
   },
   "cell_type": "markdown",
   "metadata": {},
   "source": [
    "![image.png](attachment:image.png)"
   ]
  },
  {
   "cell_type": "markdown",
   "metadata": {},
   "source": [
    "### Load data"
   ]
  },
  {
   "cell_type": "code",
   "execution_count": 5,
   "metadata": {},
   "outputs": [],
   "source": [
    "#extract data from pdf\n",
    "\n",
    "def load_pdf(data):\n",
    "    \n",
    "    loader= DirectoryLoader(data,\n",
    "    glob='*.pdf',\n",
    "    loader_cls = PyPDFLoader)\n",
    "    documnet = loader.load()\n",
    "    return documnet"
   ]
  },
  {
   "cell_type": "code",
   "execution_count": 6,
   "metadata": {},
   "outputs": [],
   "source": [
    "extracted_data = load_pdf(\"data/\")"
   ]
  },
  {
   "cell_type": "markdown",
   "metadata": {},
   "source": [
    "### Create text chucks"
   ]
  },
  {
   "cell_type": "code",
   "execution_count": 7,
   "metadata": {},
   "outputs": [],
   "source": [
    "def text_split(extracted_data):\n",
    "    text_splitter= RecursiveCharacterTextSplitter(chunk_size = 500, chunk_overlap =20)\n",
    "    text_chucks = text_splitter.split_documents(extracted_data)\n",
    "    return text_chucks"
   ]
  },
  {
   "cell_type": "code",
   "execution_count": 8,
   "metadata": {},
   "outputs": [
    {
     "name": "stdout",
     "output_type": "stream",
     "text": [
      "length of chunks: 5860\n"
     ]
    }
   ],
   "source": [
    "text_chunks = text_split(extracted_data)\n",
    "print(\"length of chunks:\", len(text_chunks))"
   ]
  },
  {
   "cell_type": "code",
   "execution_count": 13,
   "metadata": {},
   "outputs": [
    {
     "data": {
      "text/plain": [
       "'The GALE\\nENCYCLOPEDIA\\nof MEDICINE\\nSECOND EDITION'"
      ]
     },
     "execution_count": 13,
     "metadata": {},
     "output_type": "execute_result"
    }
   ],
   "source": [
    "text_chunks[0].page_content"
   ]
  },
  {
   "cell_type": "markdown",
   "metadata": {},
   "source": [
    "### Downlaod embedding model"
   ]
  },
  {
   "cell_type": "code",
   "execution_count": 14,
   "metadata": {},
   "outputs": [],
   "source": [
    "# call if need to downlaod\n",
    "def download_huuging_face_embedding():\n",
    "    embeddings = HuggingFaceEmbeddings(model_name = \"sentence-transformers/all-MiniLM-L6-v2\")\n",
    "    return embeddings"
   ]
  },
  {
   "cell_type": "code",
   "execution_count": 15,
   "metadata": {},
   "outputs": [],
   "source": [
    "embeddings = download_huuging_face_embedding()"
   ]
  },
  {
   "cell_type": "code",
   "execution_count": 16,
   "metadata": {},
   "outputs": [
    {
     "data": {
      "text/plain": [
       "HuggingFaceEmbeddings(client=SentenceTransformer(\n",
       "  (0): Transformer({'max_seq_length': 256, 'do_lower_case': False}) with Transformer model: BertModel \n",
       "  (1): Pooling({'word_embedding_dimension': 384, 'pooling_mode_cls_token': False, 'pooling_mode_mean_tokens': True, 'pooling_mode_max_tokens': False, 'pooling_mode_mean_sqrt_len_tokens': False, 'pooling_mode_weightedmean_tokens': False, 'pooling_mode_lasttoken': False, 'include_prompt': True})\n",
       "  (2): Normalize()\n",
       "), model_name='sentence-transformers/all-MiniLM-L6-v2', cache_folder=None, model_kwargs={}, encode_kwargs={})"
      ]
     },
     "execution_count": 16,
     "metadata": {},
     "output_type": "execute_result"
    }
   ],
   "source": [
    "embeddings"
   ]
  },
  {
   "cell_type": "code",
   "execution_count": 17,
   "metadata": {},
   "outputs": [
    {
     "name": "stdout",
     "output_type": "stream",
     "text": [
      "length, 384\n"
     ]
    }
   ],
   "source": [
    "query_word = embeddings.embed_query(\"hello world\")\n",
    "print(\"length,\",len(query_word))"
   ]
  },
  {
   "cell_type": "markdown",
   "metadata": {},
   "source": [
    "### Downlaod embedding model"
   ]
  },
  {
   "cell_type": "code",
   "execution_count": 21,
   "metadata": {},
   "outputs": [
    {
     "name": "stdout",
     "output_type": "stream",
     "text": [
      "Looking in indexes: https://pypi.org/simple, https://pypi.ngc.nvidia.com\n",
      "Collecting langchain_pinecone\n",
      "  Downloading langchain_pinecone-0.2.2-py3-none-any.whl.metadata (1.6 kB)\n",
      "Collecting aiohttp<3.11,>=3.10 (from langchain_pinecone)\n",
      "  Downloading aiohttp-3.10.11-cp311-cp311-win_amd64.whl.metadata (8.0 kB)\n",
      "Collecting langchain-core<0.4.0,>=0.3.29 (from langchain_pinecone)\n",
      "  Downloading langchain_core-0.3.30-py3-none-any.whl.metadata (6.3 kB)\n",
      "Collecting langchain-tests<0.4.0,>=0.3.7 (from langchain_pinecone)\n",
      "  Downloading langchain_tests-0.3.8-py3-none-any.whl.metadata (3.6 kB)\n",
      "Requirement already satisfied: numpy<2.0.0,>=1.26.0 in h:\\ineuron\\medical_chatgpt\\medical_chatbot\\.env\\lib\\site-packages (from langchain_pinecone) (1.26.4)\n",
      "Collecting pinecone<6.0.0,>=5.4.0 (from langchain_pinecone)\n",
      "  Downloading pinecone-5.4.2-py3-none-any.whl.metadata (19 kB)\n",
      "Requirement already satisfied: aiohappyeyeballs>=2.3.0 in h:\\ineuron\\medical_chatgpt\\medical_chatbot\\.env\\lib\\site-packages (from aiohttp<3.11,>=3.10->langchain_pinecone) (2.4.4)\n",
      "Requirement already satisfied: aiosignal>=1.1.2 in h:\\ineuron\\medical_chatgpt\\medical_chatbot\\.env\\lib\\site-packages (from aiohttp<3.11,>=3.10->langchain_pinecone) (1.3.2)\n",
      "Requirement already satisfied: attrs>=17.3.0 in h:\\ineuron\\medical_chatgpt\\medical_chatbot\\.env\\lib\\site-packages (from aiohttp<3.11,>=3.10->langchain_pinecone) (24.3.0)\n",
      "Requirement already satisfied: frozenlist>=1.1.1 in h:\\ineuron\\medical_chatgpt\\medical_chatbot\\.env\\lib\\site-packages (from aiohttp<3.11,>=3.10->langchain_pinecone) (1.5.0)\n",
      "Requirement already satisfied: multidict<7.0,>=4.5 in h:\\ineuron\\medical_chatgpt\\medical_chatbot\\.env\\lib\\site-packages (from aiohttp<3.11,>=3.10->langchain_pinecone) (6.1.0)\n",
      "Requirement already satisfied: yarl<2.0,>=1.12.0 in h:\\ineuron\\medical_chatgpt\\medical_chatbot\\.env\\lib\\site-packages (from aiohttp<3.11,>=3.10->langchain_pinecone) (1.18.3)\n",
      "Requirement already satisfied: PyYAML>=5.3 in h:\\ineuron\\medical_chatgpt\\medical_chatbot\\.env\\lib\\site-packages (from langchain-core<0.4.0,>=0.3.29->langchain_pinecone) (6.0.2)\n",
      "Collecting jsonpatch<2.0,>=1.33 (from langchain-core<0.4.0,>=0.3.29->langchain_pinecone)\n",
      "  Downloading jsonpatch-1.33-py2.py3-none-any.whl.metadata (3.0 kB)\n",
      "Collecting langsmith<0.3,>=0.1.125 (from langchain-core<0.4.0,>=0.3.29->langchain_pinecone)\n",
      "  Downloading langsmith-0.2.10-py3-none-any.whl.metadata (14 kB)\n",
      "Requirement already satisfied: packaging<25,>=23.2 in h:\\ineuron\\medical_chatgpt\\medical_chatbot\\.env\\lib\\site-packages (from langchain-core<0.4.0,>=0.3.29->langchain_pinecone) (24.2)\n",
      "Collecting pydantic<3.0.0,>=2.5.2 (from langchain-core<0.4.0,>=0.3.29->langchain_pinecone)\n",
      "  Downloading pydantic-2.10.5-py3-none-any.whl.metadata (30 kB)\n",
      "Requirement already satisfied: tenacity!=8.4.0,<10.0.0,>=8.1.0 in h:\\ineuron\\medical_chatgpt\\medical_chatbot\\.env\\lib\\site-packages (from langchain-core<0.4.0,>=0.3.29->langchain_pinecone) (8.5.0)\n",
      "Requirement already satisfied: typing-extensions>=4.7 in h:\\ineuron\\medical_chatgpt\\medical_chatbot\\.env\\lib\\site-packages (from langchain-core<0.4.0,>=0.3.29->langchain_pinecone) (4.12.2)\n",
      "Collecting httpx<1,>=0.25.0 (from langchain-tests<0.4.0,>=0.3.7->langchain_pinecone)\n",
      "  Downloading httpx-0.28.1-py3-none-any.whl.metadata (7.1 kB)\n",
      "Collecting pytest<9,>=7 (from langchain-tests<0.4.0,>=0.3.7->langchain_pinecone)\n",
      "  Downloading pytest-8.3.4-py3-none-any.whl.metadata (7.5 kB)\n",
      "Collecting pytest-asyncio<1,>=0.20 (from langchain-tests<0.4.0,>=0.3.7->langchain_pinecone)\n",
      "  Downloading pytest_asyncio-0.25.2-py3-none-any.whl.metadata (3.9 kB)\n",
      "Collecting pytest-socket<1,>=0.6.0 (from langchain-tests<0.4.0,>=0.3.7->langchain_pinecone)\n",
      "  Downloading pytest_socket-0.7.0-py3-none-any.whl.metadata (6.7 kB)\n",
      "Collecting syrupy<5,>=4 (from langchain-tests<0.4.0,>=0.3.7->langchain_pinecone)\n",
      "  Downloading syrupy-4.8.1-py3-none-any.whl.metadata (36 kB)\n",
      "Requirement already satisfied: certifi>=2019.11.17 in h:\\ineuron\\medical_chatgpt\\medical_chatbot\\.env\\lib\\site-packages (from pinecone<6.0.0,>=5.4.0->langchain_pinecone) (2024.12.14)\n",
      "Collecting pinecone-plugin-inference<4.0.0,>=2.0.0 (from pinecone<6.0.0,>=5.4.0->langchain_pinecone)\n",
      "  Downloading pinecone_plugin_inference-3.1.0-py3-none-any.whl.metadata (2.2 kB)\n",
      "Collecting pinecone-plugin-interface<0.0.8,>=0.0.7 (from pinecone<6.0.0,>=5.4.0->langchain_pinecone)\n",
      "  Downloading pinecone_plugin_interface-0.0.7-py3-none-any.whl.metadata (1.2 kB)\n",
      "Requirement already satisfied: python-dateutil>=2.5.3 in h:\\ineuron\\medical_chatgpt\\medical_chatbot\\.env\\lib\\site-packages (from pinecone<6.0.0,>=5.4.0->langchain_pinecone) (2.9.0.post0)\n",
      "Requirement already satisfied: tqdm>=4.64.1 in h:\\ineuron\\medical_chatgpt\\medical_chatbot\\.env\\lib\\site-packages (from pinecone<6.0.0,>=5.4.0->langchain_pinecone) (4.67.1)\n",
      "Requirement already satisfied: urllib3>=1.26.0 in h:\\ineuron\\medical_chatgpt\\medical_chatbot\\.env\\lib\\site-packages (from pinecone<6.0.0,>=5.4.0->langchain_pinecone) (2.3.0)\n",
      "Collecting anyio (from httpx<1,>=0.25.0->langchain-tests<0.4.0,>=0.3.7->langchain_pinecone)\n",
      "  Downloading anyio-4.8.0-py3-none-any.whl.metadata (4.6 kB)\n",
      "Collecting httpcore==1.* (from httpx<1,>=0.25.0->langchain-tests<0.4.0,>=0.3.7->langchain_pinecone)\n",
      "  Downloading httpcore-1.0.7-py3-none-any.whl.metadata (21 kB)\n",
      "Requirement already satisfied: idna in h:\\ineuron\\medical_chatgpt\\medical_chatbot\\.env\\lib\\site-packages (from httpx<1,>=0.25.0->langchain-tests<0.4.0,>=0.3.7->langchain_pinecone) (3.10)\n",
      "Collecting h11<0.15,>=0.13 (from httpcore==1.*->httpx<1,>=0.25.0->langchain-tests<0.4.0,>=0.3.7->langchain_pinecone)\n",
      "  Downloading h11-0.14.0-py3-none-any.whl.metadata (8.2 kB)\n",
      "Collecting jsonpointer>=1.9 (from jsonpatch<2.0,>=1.33->langchain-core<0.4.0,>=0.3.29->langchain_pinecone)\n",
      "  Downloading jsonpointer-3.0.0-py2.py3-none-any.whl.metadata (2.3 kB)\n",
      "Collecting orjson<4.0.0,>=3.9.14 (from langsmith<0.3,>=0.1.125->langchain-core<0.4.0,>=0.3.29->langchain_pinecone)\n",
      "  Downloading orjson-3.10.14-cp311-cp311-win_amd64.whl.metadata (42 kB)\n",
      "     ---------------------------------------- 0.0/42.9 kB ? eta -:--:--\n",
      "     ---------------------------------------- 42.9/42.9 kB ? eta 0:00:00\n",
      "Requirement already satisfied: requests<3,>=2 in h:\\ineuron\\medical_chatgpt\\medical_chatbot\\.env\\lib\\site-packages (from langsmith<0.3,>=0.1.125->langchain-core<0.4.0,>=0.3.29->langchain_pinecone) (2.32.3)\n",
      "Collecting requests-toolbelt<2.0.0,>=1.0.0 (from langsmith<0.3,>=0.1.125->langchain-core<0.4.0,>=0.3.29->langchain_pinecone)\n",
      "  Downloading requests_toolbelt-1.0.0-py2.py3-none-any.whl.metadata (14 kB)\n",
      "Collecting annotated-types>=0.6.0 (from pydantic<3.0.0,>=2.5.2->langchain-core<0.4.0,>=0.3.29->langchain_pinecone)\n",
      "  Downloading annotated_types-0.7.0-py3-none-any.whl.metadata (15 kB)\n",
      "Collecting pydantic-core==2.27.2 (from pydantic<3.0.0,>=2.5.2->langchain-core<0.4.0,>=0.3.29->langchain_pinecone)\n",
      "  Downloading pydantic_core-2.27.2-cp311-cp311-win_amd64.whl.metadata (6.7 kB)\n",
      "Requirement already satisfied: colorama in h:\\ineuron\\medical_chatgpt\\medical_chatbot\\.env\\lib\\site-packages (from pytest<9,>=7->langchain-tests<0.4.0,>=0.3.7->langchain_pinecone) (0.4.6)\n",
      "Collecting iniconfig (from pytest<9,>=7->langchain-tests<0.4.0,>=0.3.7->langchain_pinecone)\n",
      "  Downloading iniconfig-2.0.0-py3-none-any.whl.metadata (2.6 kB)\n",
      "Collecting pluggy<2,>=1.5 (from pytest<9,>=7->langchain-tests<0.4.0,>=0.3.7->langchain_pinecone)\n",
      "  Downloading pluggy-1.5.0-py3-none-any.whl.metadata (4.8 kB)\n",
      "Requirement already satisfied: six>=1.5 in h:\\ineuron\\medical_chatgpt\\medical_chatbot\\.env\\lib\\site-packages (from python-dateutil>=2.5.3->pinecone<6.0.0,>=5.4.0->langchain_pinecone) (1.17.0)\n",
      "Requirement already satisfied: propcache>=0.2.0 in h:\\ineuron\\medical_chatgpt\\medical_chatbot\\.env\\lib\\site-packages (from yarl<2.0,>=1.12.0->aiohttp<3.11,>=3.10->langchain_pinecone) (0.2.1)\n",
      "Requirement already satisfied: charset-normalizer<4,>=2 in h:\\ineuron\\medical_chatgpt\\medical_chatbot\\.env\\lib\\site-packages (from requests<3,>=2->langsmith<0.3,>=0.1.125->langchain-core<0.4.0,>=0.3.29->langchain_pinecone) (3.4.1)\n",
      "Collecting sniffio>=1.1 (from anyio->httpx<1,>=0.25.0->langchain-tests<0.4.0,>=0.3.7->langchain_pinecone)\n",
      "  Downloading sniffio-1.3.1-py3-none-any.whl.metadata (3.9 kB)\n",
      "Downloading langchain_pinecone-0.2.2-py3-none-any.whl (11 kB)\n",
      "Downloading aiohttp-3.10.11-cp311-cp311-win_amd64.whl (382 kB)\n",
      "   ---------------------------------------- 0.0/382.6 kB ? eta -:--:--\n",
      "   ------------------------- -------------- 245.8/382.6 kB 7.4 MB/s eta 0:00:01\n",
      "   ---------------------------------------- 382.6/382.6 kB 7.9 MB/s eta 0:00:00\n",
      "Downloading langchain_core-0.3.30-py3-none-any.whl (411 kB)\n",
      "   ---------------------------------------- 0.0/411.9 kB ? eta -:--:--\n",
      "   ------------------------ -------------- 256.0/411.9 kB 15.4 MB/s eta 0:00:01\n",
      "   ---------------------------------------- 411.9/411.9 kB 5.1 MB/s eta 0:00:00\n",
      "Downloading langchain_tests-0.3.8-py3-none-any.whl (36 kB)\n",
      "Downloading pinecone-5.4.2-py3-none-any.whl (427 kB)\n",
      "   ---------------------------------------- 0.0/427.3 kB ? eta -:--:--\n",
      "   ---------------------------------- ----- 368.6/427.3 kB 7.6 MB/s eta 0:00:01\n",
      "   ---------------------------------------- 427.3/427.3 kB 8.9 MB/s eta 0:00:00\n",
      "Downloading httpx-0.28.1-py3-none-any.whl (73 kB)\n",
      "   ---------------------------------------- 0.0/73.5 kB ? eta -:--:--\n",
      "   ---------------------------------------- 73.5/73.5 kB ? eta 0:00:00\n",
      "Downloading httpcore-1.0.7-py3-none-any.whl (78 kB)\n",
      "   ---------------------------------------- 0.0/78.6 kB ? eta -:--:--\n",
      "   ---------------------------------------- 78.6/78.6 kB ? eta 0:00:00\n",
      "Downloading jsonpatch-1.33-py2.py3-none-any.whl (12 kB)\n",
      "Downloading langsmith-0.2.10-py3-none-any.whl (326 kB)\n",
      "   ---------------------------------------- 0.0/326.4 kB ? eta -:--:--\n",
      "   --------------------------------------- 326.4/326.4 kB 10.2 MB/s eta 0:00:00\n",
      "Downloading pinecone_plugin_inference-3.1.0-py3-none-any.whl (87 kB)\n",
      "   ---------------------------------------- 0.0/87.5 kB ? eta -:--:--\n",
      "   ---------------------------------------- 87.5/87.5 kB ? eta 0:00:00\n",
      "Downloading pinecone_plugin_interface-0.0.7-py3-none-any.whl (6.2 kB)\n",
      "Downloading pydantic-2.10.5-py3-none-any.whl (431 kB)\n",
      "   ---------------------------------------- 0.0/431.4 kB ? eta -:--:--\n",
      "   -------------------------- ------------- 286.7/431.4 kB 8.9 MB/s eta 0:00:01\n",
      "   ---------------------------------------- 431.4/431.4 kB 9.0 MB/s eta 0:00:00\n",
      "Downloading pydantic_core-2.27.2-cp311-cp311-win_amd64.whl (2.0 MB)\n",
      "   ---------------------------------------- 0.0/2.0 MB ? eta -:--:--\n",
      "   -------- ------------------------------- 0.4/2.0 MB 12.2 MB/s eta 0:00:01\n",
      "   ------------------ --------------------- 0.9/2.0 MB 11.7 MB/s eta 0:00:01\n",
      "   ------------------------------ --------- 1.5/2.0 MB 10.5 MB/s eta 0:00:01\n",
      "   ---------------------------------------  1.9/2.0 MB 11.2 MB/s eta 0:00:01\n",
      "   ---------------------------------------- 2.0/2.0 MB 10.5 MB/s eta 0:00:00\n",
      "Downloading pytest-8.3.4-py3-none-any.whl (343 kB)\n",
      "   ---------------------------------------- 0.0/343.1 kB ? eta -:--:--\n",
      "   --------------------------------------- 343.1/343.1 kB 10.7 MB/s eta 0:00:00\n",
      "Downloading pytest_asyncio-0.25.2-py3-none-any.whl (19 kB)\n",
      "Downloading pytest_socket-0.7.0-py3-none-any.whl (6.8 kB)\n",
      "Downloading syrupy-4.8.1-py3-none-any.whl (50 kB)\n",
      "   ---------------------------------------- 0.0/50.3 kB ? eta -:--:--\n",
      "   ---------------------------------------- 50.3/50.3 kB ? eta 0:00:00\n",
      "Downloading annotated_types-0.7.0-py3-none-any.whl (13 kB)\n",
      "Downloading jsonpointer-3.0.0-py2.py3-none-any.whl (7.6 kB)\n",
      "Downloading orjson-3.10.14-cp311-cp311-win_amd64.whl (133 kB)\n",
      "   ---------------------------------------- 0.0/133.5 kB ? eta -:--:--\n",
      "   ---------------------------------------- 133.5/133.5 kB 7.7 MB/s eta 0:00:00\n",
      "Downloading pluggy-1.5.0-py3-none-any.whl (20 kB)\n",
      "Downloading requests_toolbelt-1.0.0-py2.py3-none-any.whl (54 kB)\n",
      "   ---------------------------------------- 0.0/54.5 kB ? eta -:--:--\n",
      "   ---------------------------------------- 54.5/54.5 kB ? eta 0:00:00\n",
      "Downloading anyio-4.8.0-py3-none-any.whl (96 kB)\n",
      "   ---------------------------------------- 0.0/96.0 kB ? eta -:--:--\n",
      "   ---------------------------------------- 96.0/96.0 kB 5.7 MB/s eta 0:00:00\n",
      "Downloading iniconfig-2.0.0-py3-none-any.whl (5.9 kB)\n",
      "Downloading h11-0.14.0-py3-none-any.whl (58 kB)\n",
      "   ---------------------------------------- 0.0/58.3 kB ? eta -:--:--\n",
      "   ---------------------------------------- 58.3/58.3 kB 3.2 MB/s eta 0:00:00\n",
      "Downloading sniffio-1.3.1-py3-none-any.whl (10 kB)\n",
      "Installing collected packages: sniffio, pydantic-core, pluggy, pinecone-plugin-interface, orjson, jsonpointer, iniconfig, h11, annotated-types, requests-toolbelt, pytest, pydantic, pinecone-plugin-inference, jsonpatch, httpcore, anyio, aiohttp, syrupy, pytest-socket, pytest-asyncio, pinecone, httpx, langsmith, langchain-core, langchain-tests, langchain_pinecone\n",
      "  Attempting uninstall: pydantic\n",
      "    Found existing installation: pydantic 1.10.20\n",
      "    Uninstalling pydantic-1.10.20:\n",
      "      Successfully uninstalled pydantic-1.10.20\n",
      "  Attempting uninstall: aiohttp\n",
      "    Found existing installation: aiohttp 3.11.11\n",
      "    Uninstalling aiohttp-3.11.11:\n",
      "      Successfully uninstalled aiohttp-3.11.11\n",
      "Successfully installed aiohttp-3.10.11 annotated-types-0.7.0 anyio-4.8.0 h11-0.14.0 httpcore-1.0.7 httpx-0.28.1 iniconfig-2.0.0 jsonpatch-1.33 jsonpointer-3.0.0 langchain-core-0.3.30 langchain-tests-0.3.8 langchain_pinecone-0.2.2 langsmith-0.2.10 orjson-3.10.14 pinecone-5.4.2 pinecone-plugin-inference-3.1.0 pinecone-plugin-interface-0.0.7 pluggy-1.5.0 pydantic-2.10.5 pydantic-core-2.27.2 pytest-8.3.4 pytest-asyncio-0.25.2 pytest-socket-0.7.0 requests-toolbelt-1.0.0 sniffio-1.3.1 syrupy-4.8.1\n",
      "Note: you may need to restart the kernel to use updated packages.\n"
     ]
    },
    {
     "name": "stderr",
     "output_type": "stream",
     "text": [
      "  WARNING: Failed to remove contents in a temporary directory 'H:\\Ineuron\\medical_chatgpt\\medical_chatbot\\.env\\Lib\\site-packages\\~ydantic'.\n",
      "  You can safely remove it manually.\n",
      "  WARNING: Failed to remove contents in a temporary directory 'H:\\Ineuron\\medical_chatgpt\\medical_chatbot\\.env\\Lib\\site-packages\\~iohttp'.\n",
      "  You can safely remove it manually.\n",
      "ERROR: pip's dependency resolver does not currently take into account all the packages that are installed. This behaviour is the source of the following dependency conflicts.\n",
      "langchain 0.0.225 requires pydantic<2,>=1, but you have pydantic 2.10.5 which is incompatible.\n",
      "langchainplus-sdk 0.0.20 requires pydantic<2,>=1, but you have pydantic 2.10.5 which is incompatible.\n",
      "\n",
      "[notice] A new release of pip is available: 24.0 -> 24.3.1\n",
      "[notice] To update, run: python.exe -m pip install --upgrade pip\n"
     ]
    }
   ],
   "source": [
    "pip install langchain_pinecone "
   ]
  },
  {
   "cell_type": "code",
   "execution_count": 30,
   "metadata": {},
   "outputs": [
    {
     "ename": "ImportError",
     "evalue": "cannot import name 'Pinecone' from 'pinecone' (h:\\Ineuron\\medical_chatgpt\\medical_chatbot\\.env\\Lib\\site-packages\\pinecone\\__init__.py)",
     "output_type": "error",
     "traceback": [
      "\u001b[1;31m---------------------------------------------------------------------------\u001b[0m",
      "\u001b[1;31mImportError\u001b[0m                               Traceback (most recent call last)",
      "Cell \u001b[1;32mIn[30], line 1\u001b[0m\n\u001b[1;32m----> 1\u001b[0m \u001b[38;5;28;01mfrom\u001b[39;00m\u001b[38;5;250m \u001b[39m\u001b[38;5;21;01mpinecone\u001b[39;00m\u001b[38;5;250m \u001b[39m\u001b[38;5;28;01mimport\u001b[39;00m Pinecone, ServerlessSpec\n",
      "\u001b[1;31mImportError\u001b[0m: cannot import name 'Pinecone' from 'pinecone' (h:\\Ineuron\\medical_chatgpt\\medical_chatbot\\.env\\Lib\\site-packages\\pinecone\\__init__.py)"
     ]
    }
   ],
   "source": [
    "from pinecone import Pinecone, ServerlessSpec"
   ]
  },
  {
   "cell_type": "code",
   "execution_count": 29,
   "metadata": {},
   "outputs": [
    {
     "name": "stdout",
     "output_type": "stream",
     "text": [
      "Looking in indexes: https://pypi.org/simple, https://pypi.ngc.nvidia.com\n",
      "Requirement already satisfied: pinecone in h:\\ineuron\\medical_chatgpt\\medical_chatbot\\.env\\lib\\site-packages (5.4.2)\n",
      "Requirement already satisfied: certifi>=2019.11.17 in h:\\ineuron\\medical_chatgpt\\medical_chatbot\\.env\\lib\\site-packages (from pinecone) (2024.12.14)\n",
      "Requirement already satisfied: pinecone-plugin-inference<4.0.0,>=2.0.0 in h:\\ineuron\\medical_chatgpt\\medical_chatbot\\.env\\lib\\site-packages (from pinecone) (3.1.0)\n",
      "Requirement already satisfied: pinecone-plugin-interface<0.0.8,>=0.0.7 in h:\\ineuron\\medical_chatgpt\\medical_chatbot\\.env\\lib\\site-packages (from pinecone) (0.0.7)\n",
      "Requirement already satisfied: python-dateutil>=2.5.3 in h:\\ineuron\\medical_chatgpt\\medical_chatbot\\.env\\lib\\site-packages (from pinecone) (2.9.0.post0)\n",
      "Requirement already satisfied: tqdm>=4.64.1 in h:\\ineuron\\medical_chatgpt\\medical_chatbot\\.env\\lib\\site-packages (from pinecone) (4.67.1)\n",
      "Requirement already satisfied: typing-extensions>=3.7.4 in h:\\ineuron\\medical_chatgpt\\medical_chatbot\\.env\\lib\\site-packages (from pinecone) (4.12.2)\n",
      "Requirement already satisfied: urllib3>=1.26.0 in h:\\ineuron\\medical_chatgpt\\medical_chatbot\\.env\\lib\\site-packages (from pinecone) (2.3.0)\n",
      "Requirement already satisfied: six>=1.5 in h:\\ineuron\\medical_chatgpt\\medical_chatbot\\.env\\lib\\site-packages (from python-dateutil>=2.5.3->pinecone) (1.17.0)\n",
      "Requirement already satisfied: colorama in h:\\ineuron\\medical_chatgpt\\medical_chatbot\\.env\\lib\\site-packages (from tqdm>=4.64.1->pinecone) (0.4.6)\n",
      "Note: you may need to restart the kernel to use updated packages.\n"
     ]
    },
    {
     "name": "stderr",
     "output_type": "stream",
     "text": [
      "\n",
      "[notice] A new release of pip is available: 24.0 -> 24.3.1\n",
      "[notice] To update, run: python.exe -m pip install --upgrade pip\n"
     ]
    }
   ],
   "source": [
    "pip install pinecone"
   ]
  },
  {
   "cell_type": "code",
   "execution_count": 31,
   "metadata": {},
   "outputs": [],
   "source": [
    "import pinecone"
   ]
  },
  {
   "cell_type": "code",
   "execution_count": 32,
   "metadata": {},
   "outputs": [],
   "source": [
    "pinecone.init(api_key=PINECONE_API_KEY)"
   ]
  },
  {
   "cell_type": "code",
   "execution_count": null,
   "metadata": {},
   "outputs": [
    {
     "ename": "ImportError",
     "evalue": "cannot import name 'ServerlessSpec' from 'pinecone' (h:\\Ineuron\\medical_chatgpt\\medical_chatbot\\.env\\Lib\\site-packages\\pinecone\\__init__.py)",
     "output_type": "error",
     "traceback": [
      "\u001b[1;31m---------------------------------------------------------------------------\u001b[0m",
      "\u001b[1;31mImportError\u001b[0m                               Traceback (most recent call last)",
      "Cell \u001b[1;32mIn[36], line 1\u001b[0m\n\u001b[1;32m----> 1\u001b[0m \u001b[38;5;28;01mfrom\u001b[39;00m\u001b[38;5;250m \u001b[39m\u001b[38;5;21;01mpinecone\u001b[39;00m\u001b[38;5;250m \u001b[39m\u001b[38;5;28;01mimport\u001b[39;00m ServerlessSpec\n",
      "\u001b[1;31mImportError\u001b[0m: cannot import name 'ServerlessSpec' from 'pinecone' (h:\\Ineuron\\medical_chatgpt\\medical_chatbot\\.env\\Lib\\site-packages\\pinecone\\__init__.py)"
     ]
    },
    {
     "ename": "",
     "evalue": "",
     "output_type": "error",
     "traceback": [
      "\u001b[1;31mThe Kernel crashed while executing code in the current cell or a previous cell. \n",
      "\u001b[1;31mPlease review the code in the cell(s) to identify a possible cause of the failure. \n",
      "\u001b[1;31mClick <a href='https://aka.ms/vscodeJupyterKernelCrash'>here</a> for more info. \n",
      "\u001b[1;31mView Jupyter <a href='command:jupyter.viewOutput'>log</a> for further details."
     ]
    }
   ],
   "source": [
    "from pinecone import ServerlessSpec"
   ]
  },
  {
   "cell_type": "code",
   "execution_count": 34,
   "metadata": {},
   "outputs": [
    {
     "ename": "NameError",
     "evalue": "name 'ServerlessSpec' is not defined",
     "output_type": "error",
     "traceback": [
      "\u001b[1;31m---------------------------------------------------------------------------\u001b[0m",
      "\u001b[1;31mNameError\u001b[0m                                 Traceback (most recent call last)",
      "Cell \u001b[1;32mIn[34], line 5\u001b[0m\n\u001b[0;32m      1\u001b[0m pinecone\u001b[38;5;241m.\u001b[39mcreate_index(\n\u001b[0;32m      2\u001b[0m         name\u001b[38;5;241m=\u001b[39m\u001b[38;5;124m\"\u001b[39m\u001b[38;5;124mtest1\u001b[39m\u001b[38;5;124m\"\u001b[39m,\n\u001b[0;32m      3\u001b[0m         dimension\u001b[38;5;241m=\u001b[39m\u001b[38;5;241m384\u001b[39m,\n\u001b[0;32m      4\u001b[0m         metric\u001b[38;5;241m=\u001b[39m\u001b[38;5;124m\"\u001b[39m\u001b[38;5;124mcosine\u001b[39m\u001b[38;5;124m\"\u001b[39m,\n\u001b[1;32m----> 5\u001b[0m         spec\u001b[38;5;241m=\u001b[39m\u001b[43mServerlessSpec\u001b[49m(cloud\u001b[38;5;241m=\u001b[39m\u001b[38;5;124m\"\u001b[39m\u001b[38;5;124maws\u001b[39m\u001b[38;5;124m\"\u001b[39m, region\u001b[38;5;241m=\u001b[39m\u001b[38;5;124m\"\u001b[39m\u001b[38;5;124mus-east-1\u001b[39m\u001b[38;5;124m\"\u001b[39m),\n\u001b[0;32m      6\u001b[0m     )\n",
      "\u001b[1;31mNameError\u001b[0m: name 'ServerlessSpec' is not defined"
     ]
    }
   ],
   "source": [
    "pinecone.create_index(\n",
    "        name=\"test1\",\n",
    "        dimension=384,\n",
    "        metric=\"cosine\",\n",
    "        spec=ServerlessSpec(cloud=\"aws\", region=\"us-east-1\"),\n",
    "    )"
   ]
  },
  {
   "cell_type": "code",
   "execution_count": null,
   "metadata": {},
   "outputs": [],
   "source": []
  },
  {
   "cell_type": "code",
   "execution_count": null,
   "metadata": {},
   "outputs": [],
   "source": []
  },
  {
   "cell_type": "code",
   "execution_count": 27,
   "metadata": {},
   "outputs": [
    {
     "data": {
      "text/plain": [
       "'pcsk_34Xkxc_ap7EWJNWSBZRt9p1NqJKr14Bt47Fr2ya8iu3jpxDDoEiVJrDbp9AvC81TaVCPt'"
      ]
     },
     "execution_count": 27,
     "metadata": {},
     "output_type": "execute_result"
    }
   ],
   "source": [
    "PINECONE_API_KEY"
   ]
  },
  {
   "cell_type": "code",
   "execution_count": 28,
   "metadata": {},
   "outputs": [
    {
     "ename": "AttributeError",
     "evalue": "module 'pinecone' has no attribute 'Pinecone'",
     "output_type": "error",
     "traceback": [
      "\u001b[1;31m---------------------------------------------------------------------------\u001b[0m",
      "\u001b[1;31mAttributeError\u001b[0m                            Traceback (most recent call last)",
      "Cell \u001b[1;32mIn[28], line 1\u001b[0m\n\u001b[1;32m----> 1\u001b[0m pc \u001b[38;5;241m=\u001b[39m \u001b[43mpinecone\u001b[49m\u001b[38;5;241;43m.\u001b[39;49m\u001b[43mPinecone\u001b[49m(api_key\u001b[38;5;241m=\u001b[39mPINECONE_API_KEY)\n",
      "\u001b[1;31mAttributeError\u001b[0m: module 'pinecone' has no attribute 'Pinecone'"
     ]
    }
   ],
   "source": [
    "pc = pinecone.Pinecone(api_key=PINECONE_API_KEY)"
   ]
  },
  {
   "cell_type": "code",
   "execution_count": 23,
   "metadata": {},
   "outputs": [
    {
     "ename": "TypeError",
     "evalue": "Pinecone.__init__() got an unexpected keyword argument 'api_key'",
     "output_type": "error",
     "traceback": [
      "\u001b[1;31m---------------------------------------------------------------------------\u001b[0m",
      "\u001b[1;31mTypeError\u001b[0m                                 Traceback (most recent call last)",
      "Cell \u001b[1;32mIn[23], line 1\u001b[0m\n\u001b[1;32m----> 1\u001b[0m pc \u001b[38;5;241m=\u001b[39m \u001b[43mPinecone\u001b[49m\u001b[43m(\u001b[49m\u001b[43mapi_key\u001b[49m\u001b[43m \u001b[49m\u001b[38;5;241;43m=\u001b[39;49m\u001b[43m \u001b[49m\u001b[43mPINECONE_API_KEY\u001b[49m\u001b[43m)\u001b[49m\n",
      "\u001b[1;31mTypeError\u001b[0m: Pinecone.__init__() got an unexpected keyword argument 'api_key'"
     ]
    }
   ],
   "source": [
    "pc = Pinecone(api_key = PINECONE_API_KEY)"
   ]
  },
  {
   "cell_type": "code",
   "execution_count": 20,
   "metadata": {},
   "outputs": [
    {
     "ename": "ModuleNotFoundError",
     "evalue": "No module named 'langchain_pinecone'",
     "output_type": "error",
     "traceback": [
      "\u001b[1;31m---------------------------------------------------------------------------\u001b[0m",
      "\u001b[1;31mModuleNotFoundError\u001b[0m                       Traceback (most recent call last)",
      "Cell \u001b[1;32mIn[20], line 2\u001b[0m\n\u001b[0;32m      1\u001b[0m \u001b[38;5;28;01mimport\u001b[39;00m\u001b[38;5;250m \u001b[39m\u001b[38;5;21;01mos\u001b[39;00m\n\u001b[1;32m----> 2\u001b[0m \u001b[38;5;28;01mfrom\u001b[39;00m\u001b[38;5;250m \u001b[39m\u001b[38;5;21;01mlangchain_pinecone\u001b[39;00m\u001b[38;5;250m \u001b[39m\u001b[38;5;28;01mimport\u001b[39;00m PineconeVectorStore\n",
      "\u001b[1;31mModuleNotFoundError\u001b[0m: No module named 'langchain_pinecone'"
     ]
    }
   ],
   "source": [
    "import os\n",
    "from langchain_pinecone import PineconeVectorStore"
   ]
  },
  {
   "cell_type": "code",
   "execution_count": 15,
   "metadata": {},
   "outputs": [],
   "source": [
    "# to create index\n",
    "#pinecone.create_index(\"medical-chatbot1\", dimension=384)\n",
    "#print(pinecone.list_indexes())\n",
    "\n",
    "pinecone.init(api_key=PINECONE_API_KEY)\n",
    "\n",
    "index_name = \"medical-chatbot\"\n"
   ]
  },
  {
   "cell_type": "code",
   "execution_count": 18,
   "metadata": {},
   "outputs": [
    {
     "name": "stdout",
     "output_type": "stream",
     "text": [
      "Note: you may need to restart the kernel to use updated packages.\n"
     ]
    },
    {
     "name": "stderr",
     "output_type": "stream",
     "text": [
      "WARNING: Package(s) not found: pinecone\n"
     ]
    }
   ],
   "source": [
    "pip show pinecone"
   ]
  },
  {
   "cell_type": "code",
   "execution_count": 17,
   "metadata": {},
   "outputs": [
    {
     "ename": "ImportError",
     "evalue": "cannot import name 'Pinecone' from 'pinecone' (h:\\Ineuron\\medical_chatgpt\\medical_chatbot\\.env\\Lib\\site-packages\\pinecone\\__init__.py)",
     "output_type": "error",
     "traceback": [
      "\u001b[1;31m---------------------------------------------------------------------------\u001b[0m",
      "\u001b[1;31mImportError\u001b[0m                               Traceback (most recent call last)",
      "Cell \u001b[1;32mIn[17], line 1\u001b[0m\n\u001b[1;32m----> 1\u001b[0m \u001b[38;5;28;01mfrom\u001b[39;00m\u001b[38;5;250m \u001b[39m\u001b[38;5;21;01mpinecone\u001b[39;00m\u001b[38;5;250m \u001b[39m\u001b[38;5;28;01mimport\u001b[39;00m Pinecone, ServerlessSpec\n\u001b[0;32m      3\u001b[0m pc \u001b[38;5;241m=\u001b[39m Pinecone(api_key\u001b[38;5;241m=\u001b[39mPINECONE_API_KEY)\n",
      "\u001b[1;31mImportError\u001b[0m: cannot import name 'Pinecone' from 'pinecone' (h:\\Ineuron\\medical_chatgpt\\medical_chatbot\\.env\\Lib\\site-packages\\pinecone\\__init__.py)"
     ]
    }
   ],
   "source": [
    "from pinecone import Pinecone, ServerlessSpec\n",
    "\n",
    "pc = Pinecone(api_key=PINECONE_API_KEY)"
   ]
  },
  {
   "cell_type": "code",
   "execution_count": 16,
   "metadata": {},
   "outputs": [
    {
     "ename": "ValueError",
     "evalue": "No active indexes found in your Pinecone project, are you sure you're using the right API key and environment?",
     "output_type": "error",
     "traceback": [
      "\u001b[1;31m---------------------------------------------------------------------------\u001b[0m",
      "\u001b[1;31mValueError\u001b[0m                                Traceback (most recent call last)",
      "Cell \u001b[1;32mIn[16], line 1\u001b[0m\n\u001b[1;32m----> 1\u001b[0m docsearch \u001b[38;5;241m=\u001b[39m \u001b[43mPinecone\u001b[49m\u001b[38;5;241;43m.\u001b[39;49m\u001b[43mfrom_texts\u001b[49m\u001b[43m(\u001b[49m\u001b[43m[\u001b[49m\u001b[43mt\u001b[49m\u001b[38;5;241;43m.\u001b[39;49m\u001b[43mpage_content\u001b[49m\u001b[43m \u001b[49m\u001b[38;5;28;43;01mfor\u001b[39;49;00m\u001b[43m \u001b[49m\u001b[43mt\u001b[49m\u001b[43m \u001b[49m\u001b[38;5;129;43;01min\u001b[39;49;00m\u001b[43m \u001b[49m\u001b[43mtext_chunks\u001b[49m\u001b[43m]\u001b[49m\u001b[43m,\u001b[49m\u001b[43m \u001b[49m\u001b[43membeddings\u001b[49m\u001b[43m,\u001b[49m\u001b[43m \u001b[49m\u001b[43mindex_name\u001b[49m\u001b[43m \u001b[49m\u001b[38;5;241;43m=\u001b[39;49m\u001b[43m \u001b[49m\u001b[43mindex_name\u001b[49m\u001b[43m)\u001b[49m\n",
      "File \u001b[1;32mh:\\Ineuron\\medical_chatgpt\\medical_chatbot\\.env\\Lib\\site-packages\\langchain\\vectorstores\\pinecone.py:301\u001b[0m, in \u001b[0;36mPinecone.from_texts\u001b[1;34m(cls, texts, embedding, metadatas, ids, batch_size, text_key, index_name, namespace, **kwargs)\u001b[0m\n\u001b[0;32m    299\u001b[0m     index \u001b[38;5;241m=\u001b[39m pinecone\u001b[38;5;241m.\u001b[39mIndex(index_name)\n\u001b[0;32m    300\u001b[0m \u001b[38;5;28;01melif\u001b[39;00m \u001b[38;5;28mlen\u001b[39m(indexes) \u001b[38;5;241m==\u001b[39m \u001b[38;5;241m0\u001b[39m:\n\u001b[1;32m--> 301\u001b[0m     \u001b[38;5;28;01mraise\u001b[39;00m \u001b[38;5;167;01mValueError\u001b[39;00m(\n\u001b[0;32m    302\u001b[0m         \u001b[38;5;124m\"\u001b[39m\u001b[38;5;124mNo active indexes found in your Pinecone project, \u001b[39m\u001b[38;5;124m\"\u001b[39m\n\u001b[0;32m    303\u001b[0m         \u001b[38;5;124m\"\u001b[39m\u001b[38;5;124mare you sure you\u001b[39m\u001b[38;5;124m'\u001b[39m\u001b[38;5;124mre using the right API key and environment?\u001b[39m\u001b[38;5;124m\"\u001b[39m\n\u001b[0;32m    304\u001b[0m     )\n\u001b[0;32m    305\u001b[0m \u001b[38;5;28;01melse\u001b[39;00m:\n\u001b[0;32m    306\u001b[0m     \u001b[38;5;28;01mraise\u001b[39;00m \u001b[38;5;167;01mValueError\u001b[39;00m(\n\u001b[0;32m    307\u001b[0m         \u001b[38;5;124mf\u001b[39m\u001b[38;5;124m\"\u001b[39m\u001b[38;5;124mIndex \u001b[39m\u001b[38;5;124m'\u001b[39m\u001b[38;5;132;01m{\u001b[39;00mindex_name\u001b[38;5;132;01m}\u001b[39;00m\u001b[38;5;124m'\u001b[39m\u001b[38;5;124m not found in your Pinecone project. \u001b[39m\u001b[38;5;124m\"\u001b[39m\n\u001b[0;32m    308\u001b[0m         \u001b[38;5;124mf\u001b[39m\u001b[38;5;124m\"\u001b[39m\u001b[38;5;124mDid you mean one of the following indexes: \u001b[39m\u001b[38;5;132;01m{\u001b[39;00m\u001b[38;5;124m'\u001b[39m\u001b[38;5;124m, \u001b[39m\u001b[38;5;124m'\u001b[39m\u001b[38;5;241m.\u001b[39mjoin(indexes)\u001b[38;5;132;01m}\u001b[39;00m\u001b[38;5;124m\"\u001b[39m\n\u001b[0;32m    309\u001b[0m     )\n",
      "\u001b[1;31mValueError\u001b[0m: No active indexes found in your Pinecone project, are you sure you're using the right API key and environment?"
     ]
    }
   ],
   "source": [
    "docsearch = Pinecone.from_texts([t.page_content for t in text_chunks], embeddings, index_name = index_name)"
   ]
  },
  {
   "cell_type": "code",
   "execution_count": 44,
   "metadata": {},
   "outputs": [],
   "source": [
    "pinecone.init(api_key=PINECONE_API_KEY,\n",
    "              environment = PINECONE_API_KEY_ENV)"
   ]
  },
  {
   "cell_type": "code",
   "execution_count": 45,
   "metadata": {},
   "outputs": [
    {
     "name": "stdout",
     "output_type": "stream",
     "text": [
      "<function whoami at 0x0000022561912160>\n"
     ]
    }
   ],
   "source": [
    "print(pinecone.whoami)"
   ]
  },
  {
   "cell_type": "code",
   "execution_count": null,
   "metadata": {},
   "outputs": [],
   "source": [
    "pinecone.create_index(\"medical-chatbot1\", dimension=384)\n",
    "\n",
    "# List available indexes\n",
    "print(pinecone.list_indexes())"
   ]
  },
  {
   "cell_type": "code",
   "execution_count": null,
   "metadata": {},
   "outputs": [],
   "source": [
    "s"
   ]
  },
  {
   "cell_type": "code",
   "execution_count": null,
   "metadata": {},
   "outputs": [],
   "source": []
  }
 ],
 "metadata": {
  "kernelspec": {
   "display_name": ".env",
   "language": "python",
   "name": "python3"
  },
  "language_info": {
   "codemirror_mode": {
    "name": "ipython",
    "version": 3
   },
   "file_extension": ".py",
   "mimetype": "text/x-python",
   "name": "python",
   "nbconvert_exporter": "python",
   "pygments_lexer": "ipython3",
   "version": "3.11.9"
  }
 },
 "nbformat": 4,
 "nbformat_minor": 2
}
